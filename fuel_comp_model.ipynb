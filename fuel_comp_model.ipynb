{
 "cells": [
  {
   "cell_type": "code",
   "execution_count": 3,
   "metadata": {},
   "outputs": [
    {
     "name": "stdout",
     "output_type": "stream",
     "text": [
      "\u001b[1m1/1\u001b[0m \u001b[32m━━━━━━━━━━━━━━━━━━━━\u001b[0m\u001b[37m\u001b[0m \u001b[1m0s\u001b[0m 52ms/step\n",
      "[[0.5357422]]\n"
     ]
    }
   ],
   "source": [
    "import tensorflow as tf\n",
    "import numpy as np\n",
    "from tensorflow import keras\n",
    "\n",
    "# FUNCTION FOR FUEL MODEL\n",
    "def fuel_model():\n",
    "\n",
    "    # define input and outputs\n",
    "    xs = np.array([0.0, 1.0, 2.0, 4.0, 8.0], dtype=float)\n",
    "    ys = np.array([0.0, -1.0, -1.1, 1.0, 2.0], dtype=float)\n",
    "\n",
    "    # define model and Compile\n",
    "    model = tf.keras.Sequential([keras.layers.Dense(units=1, input_shape=[1])])\n",
    "\n",
    "    model.compile(optimizer='sgd', loss='mean_squared_error')\n",
    "\n",
    "    model.fit(xs, ys, epochs=500, verbose=0)\n",
    "\n",
    "    return model\n",
    "\n",
    "model = fuel_model()\n",
    "prediction = model.predict(np.array([4.0]))\n",
    "print(prediction)\n",
    "\n",
    "\n"
   ]
  }
 ],
 "metadata": {
  "kernelspec": {
   "display_name": "Python 3",
   "language": "python",
   "name": "python3"
  },
  "language_info": {
   "codemirror_mode": {
    "name": "ipython",
    "version": 3
   },
   "file_extension": ".py",
   "mimetype": "text/x-python",
   "name": "python",
   "nbconvert_exporter": "python",
   "pygments_lexer": "ipython3",
   "version": "3.12.0"
  }
 },
 "nbformat": 4,
 "nbformat_minor": 2
}
